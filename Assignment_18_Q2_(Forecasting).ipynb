{
  "cells": [
    {
      "cell_type": "markdown",
      "id": "1a7eb1b5",
      "metadata": {
        "id": "1a7eb1b5"
      },
      "source": [
        "## Problem Statement:\n",
        "Forecast the CocaCola prices and Airlines Passengers data set. Prepare a document for each model explaining \n",
        "how many dummy variables you have created and RMSE value for each model. Finally which model you will use for \n",
        "Forecasting.\n",
        "## Dataset: Airlines+Data.csv"
      ]
    },
    {
      "cell_type": "code",
      "execution_count": null,
      "id": "db84e174",
      "metadata": {
        "ExecuteTime": {
          "end_time": "2023-02-15T11:26:20.406085Z",
          "start_time": "2023-02-15T11:26:20.393479Z"
        },
        "id": "db84e174"
      },
      "outputs": [],
      "source": [
        "# Importing Libraries\n",
        "import pandas as pd \n",
        "import numpy as np \n",
        "import matplotlib.pyplot as plt\n",
        "import seaborn as sns\n",
        "import warnings\n",
        "warnings.filterwarnings('ignore') "
      ]
    },
    {
      "cell_type": "code",
      "execution_count": null,
      "id": "2df9ef1e",
      "metadata": {
        "ExecuteTime": {
          "end_time": "2023-02-15T11:26:20.468585Z",
          "start_time": "2023-02-15T11:26:20.412652Z"
        },
        "id": "2df9ef1e",
        "outputId": "3eede860-336b-419c-e7e4-90e1599b87a8"
      },
      "outputs": [
        {
          "data": {
            "text/html": [
              "<div>\n",
              "<style scoped>\n",
              "    .dataframe tbody tr th:only-of-type {\n",
              "        vertical-align: middle;\n",
              "    }\n",
              "\n",
              "    .dataframe tbody tr th {\n",
              "        vertical-align: top;\n",
              "    }\n",
              "\n",
              "    .dataframe thead th {\n",
              "        text-align: right;\n",
              "    }\n",
              "</style>\n",
              "<table border=\"1\" class=\"dataframe\">\n",
              "  <thead>\n",
              "    <tr style=\"text-align: right;\">\n",
              "      <th></th>\n",
              "      <th>Month</th>\n",
              "      <th>Passengers</th>\n",
              "    </tr>\n",
              "  </thead>\n",
              "  <tbody>\n",
              "    <tr>\n",
              "      <th>0</th>\n",
              "      <td>1995-01-01</td>\n",
              "      <td>112</td>\n",
              "    </tr>\n",
              "    <tr>\n",
              "      <th>1</th>\n",
              "      <td>1995-02-01</td>\n",
              "      <td>118</td>\n",
              "    </tr>\n",
              "    <tr>\n",
              "      <th>2</th>\n",
              "      <td>1995-03-01</td>\n",
              "      <td>132</td>\n",
              "    </tr>\n",
              "    <tr>\n",
              "      <th>3</th>\n",
              "      <td>1995-04-01</td>\n",
              "      <td>129</td>\n",
              "    </tr>\n",
              "    <tr>\n",
              "      <th>4</th>\n",
              "      <td>1995-05-01</td>\n",
              "      <td>121</td>\n",
              "    </tr>\n",
              "    <tr>\n",
              "      <th>...</th>\n",
              "      <td>...</td>\n",
              "      <td>...</td>\n",
              "    </tr>\n",
              "    <tr>\n",
              "      <th>91</th>\n",
              "      <td>2002-08-01</td>\n",
              "      <td>405</td>\n",
              "    </tr>\n",
              "    <tr>\n",
              "      <th>92</th>\n",
              "      <td>2002-09-01</td>\n",
              "      <td>355</td>\n",
              "    </tr>\n",
              "    <tr>\n",
              "      <th>93</th>\n",
              "      <td>2002-10-01</td>\n",
              "      <td>306</td>\n",
              "    </tr>\n",
              "    <tr>\n",
              "      <th>94</th>\n",
              "      <td>2002-11-01</td>\n",
              "      <td>271</td>\n",
              "    </tr>\n",
              "    <tr>\n",
              "      <th>95</th>\n",
              "      <td>2002-12-01</td>\n",
              "      <td>306</td>\n",
              "    </tr>\n",
              "  </tbody>\n",
              "</table>\n",
              "<p>96 rows × 2 columns</p>\n",
              "</div>"
            ],
            "text/plain": [
              "        Month  Passengers\n",
              "0  1995-01-01         112\n",
              "1  1995-02-01         118\n",
              "2  1995-03-01         132\n",
              "3  1995-04-01         129\n",
              "4  1995-05-01         121\n",
              "..        ...         ...\n",
              "91 2002-08-01         405\n",
              "92 2002-09-01         355\n",
              "93 2002-10-01         306\n",
              "94 2002-11-01         271\n",
              "95 2002-12-01         306\n",
              "\n",
              "[96 rows x 2 columns]"
            ]
          },
          "execution_count": 77,
          "metadata": {},
          "output_type": "execute_result"
        }
      ],
      "source": [
        "# Loading dataset\n",
        "data = pd.read_excel('Airlines+Data.xlsx')\n",
        "data "
      ]
    },
    {
      "cell_type": "markdown",
      "id": "d241e6c0",
      "metadata": {
        "id": "d241e6c0"
      },
      "source": [
        "## EDA"
      ]
    },
    {
      "cell_type": "code",
      "execution_count": null,
      "id": "388acfe1",
      "metadata": {
        "ExecuteTime": {
          "end_time": "2023-02-15T11:26:20.484164Z",
          "start_time": "2023-02-15T11:26:20.473004Z"
        },
        "id": "388acfe1",
        "outputId": "a304f257-704d-422d-f396-a3375028f56a"
      },
      "outputs": [
        {
          "data": {
            "text/plain": [
              "(96, 2)"
            ]
          },
          "execution_count": 78,
          "metadata": {},
          "output_type": "execute_result"
        }
      ],
      "source": [
        "data.shape"
      ]
    },
    {
      "cell_type": "code",
      "execution_count": null,
      "id": "07ca3c97",
      "metadata": {
        "ExecuteTime": {
          "end_time": "2023-02-15T11:26:20.508800Z",
          "start_time": "2023-02-15T11:26:20.488465Z"
        },
        "id": "07ca3c97",
        "outputId": "050dcb54-efa3-41e7-b787-f7bab0e0ae1a"
      },
      "outputs": [
        {
          "name": "stdout",
          "output_type": "stream",
          "text": [
            "<class 'pandas.core.frame.DataFrame'>\n",
            "RangeIndex: 96 entries, 0 to 95\n",
            "Data columns (total 2 columns):\n",
            " #   Column      Non-Null Count  Dtype         \n",
            "---  ------      --------------  -----         \n",
            " 0   Month       96 non-null     datetime64[ns]\n",
            " 1   Passengers  96 non-null     int64         \n",
            "dtypes: datetime64[ns](1), int64(1)\n",
            "memory usage: 1.6 KB\n"
          ]
        }
      ],
      "source": [
        "data.info()"
      ]
    },
    {
      "cell_type": "code",
      "execution_count": null,
      "id": "20b0aece",
      "metadata": {
        "ExecuteTime": {
          "end_time": "2023-02-15T11:26:20.541169Z",
          "start_time": "2023-02-15T11:26:20.512440Z"
        },
        "id": "20b0aece",
        "outputId": "48ef502e-c02b-446d-f761-32df7c44cbfb"
      },
      "outputs": [
        {
          "data": {
            "text/html": [
              "<div>\n",
              "<style scoped>\n",
              "    .dataframe tbody tr th:only-of-type {\n",
              "        vertical-align: middle;\n",
              "    }\n",
              "\n",
              "    .dataframe tbody tr th {\n",
              "        vertical-align: top;\n",
              "    }\n",
              "\n",
              "    .dataframe thead th {\n",
              "        text-align: right;\n",
              "    }\n",
              "</style>\n",
              "<table border=\"1\" class=\"dataframe\">\n",
              "  <thead>\n",
              "    <tr style=\"text-align: right;\">\n",
              "      <th></th>\n",
              "      <th>Passengers</th>\n",
              "    </tr>\n",
              "  </thead>\n",
              "  <tbody>\n",
              "    <tr>\n",
              "      <th>count</th>\n",
              "      <td>96.000000</td>\n",
              "    </tr>\n",
              "    <tr>\n",
              "      <th>mean</th>\n",
              "      <td>213.708333</td>\n",
              "    </tr>\n",
              "    <tr>\n",
              "      <th>std</th>\n",
              "      <td>71.918216</td>\n",
              "    </tr>\n",
              "    <tr>\n",
              "      <th>min</th>\n",
              "      <td>104.000000</td>\n",
              "    </tr>\n",
              "    <tr>\n",
              "      <th>25%</th>\n",
              "      <td>156.000000</td>\n",
              "    </tr>\n",
              "    <tr>\n",
              "      <th>50%</th>\n",
              "      <td>200.000000</td>\n",
              "    </tr>\n",
              "    <tr>\n",
              "      <th>75%</th>\n",
              "      <td>264.750000</td>\n",
              "    </tr>\n",
              "    <tr>\n",
              "      <th>max</th>\n",
              "      <td>413.000000</td>\n",
              "    </tr>\n",
              "  </tbody>\n",
              "</table>\n",
              "</div>"
            ],
            "text/plain": [
              "       Passengers\n",
              "count   96.000000\n",
              "mean   213.708333\n",
              "std     71.918216\n",
              "min    104.000000\n",
              "25%    156.000000\n",
              "50%    200.000000\n",
              "75%    264.750000\n",
              "max    413.000000"
            ]
          },
          "execution_count": 80,
          "metadata": {},
          "output_type": "execute_result"
        }
      ],
      "source": [
        "data.describe()"
      ]
    },
    {
      "cell_type": "code",
      "execution_count": null,
      "id": "36c2e0ca",
      "metadata": {
        "ExecuteTime": {
          "end_time": "2023-02-15T11:26:20.556997Z",
          "start_time": "2023-02-15T11:26:20.546136Z"
        },
        "id": "36c2e0ca",
        "outputId": "8a7268a0-d0f5-4431-e24f-f27385050f23"
      },
      "outputs": [
        {
          "data": {
            "text/plain": [
              "Month         0\n",
              "Passengers    0\n",
              "dtype: int64"
            ]
          },
          "execution_count": 81,
          "metadata": {},
          "output_type": "execute_result"
        }
      ],
      "source": [
        "data.isna().sum()"
      ]
    },
    {
      "cell_type": "markdown",
      "id": "236eac09",
      "metadata": {
        "id": "236eac09"
      },
      "source": [
        "## Data Visualization"
      ]
    },
    {
      "cell_type": "code",
      "execution_count": null,
      "id": "ff509bcb",
      "metadata": {
        "ExecuteTime": {
          "end_time": "2023-02-15T11:26:20.807719Z",
          "start_time": "2023-02-15T11:26:20.561206Z"
        },
        "id": "ff509bcb",
        "outputId": "fc72073a-7b4f-4b6f-e277-ef53e0acf9f4"
      },
      "outputs": [
        {
          "data": {
            "text/plain": [
              "[<matplotlib.lines.Line2D at 0x1a8acd7fdc0>]"
            ]
          },
          "execution_count": 82,
          "metadata": {},
          "output_type": "execute_result"
        },
        {
          "data": {
            "image/png": "[encoded data removed]",
            "text/plain": [
              "<Figure size 800x500 with 2 Axes>"
            ]
          },
          "metadata": {},
          "output_type": "display_data"
        }
      ],
      "source": [
        "# Lineplot for Passengers\n",
        "plt.figure(figsize=(8,5))\n",
        "plt.xlabel(\"Date\")\n",
        "plt.ylabel(\"Number of air passengers\")\n",
        "ax = plt.axes()\n",
        "plt.plot(data['Passengers'], color = 'red', linewidth=2)"
      ]
    },
    {
      "cell_type": "code",
      "execution_count": null,
      "id": "22ed689a",
      "metadata": {
        "ExecuteTime": {
          "end_time": "2023-02-15T11:26:20.999599Z",
          "start_time": "2023-02-15T11:26:20.813891Z"
        },
        "id": "22ed689a",
        "outputId": "ab6f9143-2e6e-4d94-c0f6-c4b3eeef70a2"
      },
      "outputs": [
        {
          "data": {
            "text/plain": [
              "<AxesSubplot:>"
            ]
          },
          "execution_count": 83,
          "metadata": {},
          "output_type": "execute_result"
        },
        {
          "data": {
            "image/png": "[encoded data removed]",
            "text/plain": [
              "<Figure size 800x500 with 1 Axes>"
            ]
          },
          "metadata": {},
          "output_type": "display_data"
        }
      ],
      "source": [
        "# Histogram\n",
        "ax = plt.axes()\n",
        "data['Passengers'].hist(figsize=(8,5), color = 'red')"
      ]
    },
    {
      "cell_type": "code",
      "execution_count": null,
      "id": "f67d8724",
      "metadata": {
        "ExecuteTime": {
          "end_time": "2023-02-15T11:26:21.157863Z",
          "start_time": "2023-02-15T11:26:21.002625Z"
        },
        "id": "f67d8724",
        "outputId": "e6d6a25d-3044-432a-cd1b-152042369f03"
      },
      "outputs": [
        {
          "data": {
            "image/png": "[encoded data removed]",
            "text/plain": [
              "<Figure size 640x480 with 1 Axes>"
            ]
          },
          "metadata": {},
          "output_type": "display_data"
        }
      ],
      "source": [
        "# Lagplot\n",
        "from pandas.plotting import lag_plot\n",
        "\n",
        "lag_plot(data['Passengers'])\n",
        "plt.show()"
      ]
    },
    {
      "cell_type": "code",
      "execution_count": null,
      "id": "33a2792c",
      "metadata": {
        "ExecuteTime": {
          "end_time": "2023-02-15T11:26:21.424466Z",
          "start_time": "2023-02-15T11:26:21.162482Z"
        },
        "id": "33a2792c",
        "outputId": "9f317478-41be-4c9a-b390-a1cb7fe1c69b"
      },
      "outputs": [
        {
          "data": {
            "image/png": "[encoded data removed]",
            "text/plain": [
              "<Figure size 640x480 with 1 Axes>"
            ]
          },
          "metadata": {},
          "output_type": "display_data"
        },
        {
          "data": {
            "image/png": "[encoded data removed]",
            "text/plain": [
              "<Figure size 640x480 with 1 Axes>"
            ]
          },
          "metadata": {},
          "output_type": "display_data"
        }
      ],
      "source": [
        "import statsmodels.graphics.tsaplots as tsa_plots\n",
        "tsa_plots.plot_acf(data.Passengers,lags=12)\n",
        "tsa_plots.plot_pacf(data.Passengers,lags=12)\n",
        "plt.show()"
      ]
    },
    {
      "cell_type": "markdown",
      "id": "0fb3d0f7",
      "metadata": {
        "id": "0fb3d0f7"
      },
      "source": [
        "## Data Driven Forecasting Models"
      ]
    },
    {
      "cell_type": "code",
      "execution_count": null,
      "id": "2e8e1b1b",
      "metadata": {
        "ExecuteTime": {
          "end_time": "2023-02-15T11:29:05.233138Z",
          "start_time": "2023-02-15T11:29:05.221878Z"
        },
        "id": "2e8e1b1b"
      },
      "outputs": [],
      "source": [
        "from statsmodels.tsa.holtwinters import SimpleExpSmoothing \n",
        "from statsmodels.tsa.holtwinters import Holt \n",
        "from statsmodels.tsa.holtwinters import ExponentialSmoothing \n",
        "import statsmodels.formula.api as smf "
      ]
    },
    {
      "cell_type": "markdown",
      "id": "7c9281a3",
      "metadata": {
        "id": "7c9281a3"
      },
      "source": [
        "### Splitting Data"
      ]
    },
    {
      "cell_type": "code",
      "execution_count": null,
      "id": "a8196809",
      "metadata": {
        "ExecuteTime": {
          "end_time": "2023-02-15T11:26:21.458865Z",
          "start_time": "2023-02-15T11:26:21.442892Z"
        },
        "id": "a8196809"
      },
      "outputs": [],
      "source": [
        "# Splitting data into Train and Test \n",
        "Train = data.head(84)\n",
        "Test = data.tail(12)"
      ]
    },
    {
      "cell_type": "code",
      "execution_count": null,
      "id": "1f20d243",
      "metadata": {
        "ExecuteTime": {
          "end_time": "2023-02-15T11:26:21.490956Z",
          "start_time": "2023-02-15T11:26:21.462864Z"
        },
        "id": "1f20d243",
        "outputId": "ff79135a-4938-4988-a74b-2782113bcd3a"
      },
      "outputs": [
        {
          "data": {
            "text/html": [
              "<div>\n",
              "<style scoped>\n",
              "    .dataframe tbody tr th:only-of-type {\n",
              "        vertical-align: middle;\n",
              "    }\n",
              "\n",
              "    .dataframe tbody tr th {\n",
              "        vertical-align: top;\n",
              "    }\n",
              "\n",
              "    .dataframe thead th {\n",
              "        text-align: right;\n",
              "    }\n",
              "</style>\n",
              "<table border=\"1\" class=\"dataframe\">\n",
              "  <thead>\n",
              "    <tr style=\"text-align: right;\">\n",
              "      <th></th>\n",
              "      <th>Month</th>\n",
              "      <th>Passengers</th>\n",
              "    </tr>\n",
              "  </thead>\n",
              "  <tbody>\n",
              "    <tr>\n",
              "      <th>0</th>\n",
              "      <td>1995-01-01</td>\n",
              "      <td>112</td>\n",
              "    </tr>\n",
              "    <tr>\n",
              "      <th>1</th>\n",
              "      <td>1995-02-01</td>\n",
              "      <td>118</td>\n",
              "    </tr>\n",
              "    <tr>\n",
              "      <th>2</th>\n",
              "      <td>1995-03-01</td>\n",
              "      <td>132</td>\n",
              "    </tr>\n",
              "    <tr>\n",
              "      <th>3</th>\n",
              "      <td>1995-04-01</td>\n",
              "      <td>129</td>\n",
              "    </tr>\n",
              "    <tr>\n",
              "      <th>4</th>\n",
              "      <td>1995-05-01</td>\n",
              "      <td>121</td>\n",
              "    </tr>\n",
              "  </tbody>\n",
              "</table>\n",
              "</div>"
            ],
            "text/plain": [
              "       Month  Passengers\n",
              "0 1995-01-01         112\n",
              "1 1995-02-01         118\n",
              "2 1995-03-01         132\n",
              "3 1995-04-01         129\n",
              "4 1995-05-01         121"
            ]
          },
          "execution_count": 88,
          "metadata": {},
          "output_type": "execute_result"
        }
      ],
      "source": [
        "Train.head()"
      ]
    },
    {
      "cell_type": "code",
      "execution_count": null,
      "id": "aa143fad",
      "metadata": {
        "ExecuteTime": {
          "end_time": "2023-02-15T11:26:21.506307Z",
          "start_time": "2023-02-15T11:26:21.494738Z"
        },
        "id": "aa143fad",
        "outputId": "2d9d7643-3ab4-4248-8e70-ce0a437cbed8"
      },
      "outputs": [
        {
          "data": {
            "text/html": [
              "<div>\n",
              "<style scoped>\n",
              "    .dataframe tbody tr th:only-of-type {\n",
              "        vertical-align: middle;\n",
              "    }\n",
              "\n",
              "    .dataframe tbody tr th {\n",
              "        vertical-align: top;\n",
              "    }\n",
              "\n",
              "    .dataframe thead th {\n",
              "        text-align: right;\n",
              "    }\n",
              "</style>\n",
              "<table border=\"1\" class=\"dataframe\">\n",
              "  <thead>\n",
              "    <tr style=\"text-align: right;\">\n",
              "      <th></th>\n",
              "      <th>Month</th>\n",
              "      <th>Passengers</th>\n",
              "    </tr>\n",
              "  </thead>\n",
              "  <tbody>\n",
              "    <tr>\n",
              "      <th>84</th>\n",
              "      <td>2002-01-01</td>\n",
              "      <td>284</td>\n",
              "    </tr>\n",
              "    <tr>\n",
              "      <th>85</th>\n",
              "      <td>2002-02-01</td>\n",
              "      <td>277</td>\n",
              "    </tr>\n",
              "    <tr>\n",
              "      <th>86</th>\n",
              "      <td>2002-03-01</td>\n",
              "      <td>317</td>\n",
              "    </tr>\n",
              "    <tr>\n",
              "      <th>87</th>\n",
              "      <td>2002-04-01</td>\n",
              "      <td>313</td>\n",
              "    </tr>\n",
              "    <tr>\n",
              "      <th>88</th>\n",
              "      <td>2002-05-01</td>\n",
              "      <td>318</td>\n",
              "    </tr>\n",
              "  </tbody>\n",
              "</table>\n",
              "</div>"
            ],
            "text/plain": [
              "        Month  Passengers\n",
              "84 2002-01-01         284\n",
              "85 2002-02-01         277\n",
              "86 2002-03-01         317\n",
              "87 2002-04-01         313\n",
              "88 2002-05-01         318"
            ]
          },
          "execution_count": 89,
          "metadata": {},
          "output_type": "execute_result"
        }
      ],
      "source": [
        "Test.head()"
      ]
    },
    {
      "cell_type": "markdown",
      "id": "24815f9a",
      "metadata": {
        "id": "24815f9a"
      },
      "source": [
        "### Moving Average Method"
      ]
    },
    {
      "cell_type": "code",
      "execution_count": null,
      "id": "e0f306d5",
      "metadata": {
        "ExecuteTime": {
          "end_time": "2023-02-15T11:26:21.674253Z",
          "start_time": "2023-02-15T11:26:21.508399Z"
        },
        "id": "e0f306d5",
        "outputId": "b66fda44-04ad-4373-b3f1-af112af48402"
      },
      "outputs": [
        {
          "data": {
            "text/plain": [
              "<matplotlib.legend.Legend at 0x1a8aafd5070>"
            ]
          },
          "execution_count": 90,
          "metadata": {},
          "output_type": "execute_result"
        },
        {
          "data": {
            "image/png": "[encoded data removed]",
            "text/plain": [
              "<Figure size 1200x400 with 1 Axes>"
            ]
          },
          "metadata": {},
          "output_type": "display_data"
        }
      ],
      "source": [
        "plt.figure(figsize=(12,4))\n",
        "data.Passengers.plot(label=\"org\")\n",
        "for i in range(2,8,2):\n",
        "    data[\"Passengers\"].rolling(i).mean().plot(label=str(i))\n",
        "plt.legend(loc='best')"
      ]
    },
    {
      "cell_type": "markdown",
      "id": "bf554223",
      "metadata": {
        "id": "bf554223"
      },
      "source": [
        "### Time Series Decomposition Plot"
      ]
    },
    {
      "cell_type": "code",
      "execution_count": null,
      "id": "fa7b6570",
      "metadata": {
        "ExecuteTime": {
          "end_time": "2023-02-15T11:26:21.957856Z",
          "start_time": "2023-02-15T11:26:21.675345Z"
        },
        "id": "fa7b6570",
        "outputId": "05d2c1d5-e81f-4266-a760-61d94d2c3720"
      },
      "outputs": [
        {
          "data": {
            "image/png": "[encoded data removed]",
            "text/plain": [
              "<Figure size 640x480 with 4 Axes>"
            ]
          },
          "metadata": {},
          "output_type": "display_data"
        }
      ],
      "source": [
        "from statsmodels.tsa.seasonal import seasonal_decompose\n",
        "\n",
        "decompose_ts_add = seasonal_decompose(data.Passengers,period=12)\n",
        "decompose_ts_add.plot()\n",
        "plt.show() "
      ]
    },
    {
      "cell_type": "code",
      "execution_count": null,
      "id": "5aac900a",
      "metadata": {
        "ExecuteTime": {
          "end_time": "2023-02-15T11:26:21.991001Z",
          "start_time": "2023-02-15T11:26:21.962309Z"
        },
        "id": "5aac900a",
        "outputId": "46954e22-7e4a-42ec-b521-3dbce07f4ca3"
      },
      "outputs": [
        {
          "data": {
            "text/html": [
              "<div>\n",
              "<style scoped>\n",
              "    .dataframe tbody tr th:only-of-type {\n",
              "        vertical-align: middle;\n",
              "    }\n",
              "\n",
              "    .dataframe tbody tr th {\n",
              "        vertical-align: top;\n",
              "    }\n",
              "\n",
              "    .dataframe thead th {\n",
              "        text-align: right;\n",
              "    }\n",
              "</style>\n",
              "<table border=\"1\" class=\"dataframe\">\n",
              "  <thead>\n",
              "    <tr style=\"text-align: right;\">\n",
              "      <th></th>\n",
              "      <th>Month</th>\n",
              "      <th>Passengers</th>\n",
              "      <th>Months</th>\n",
              "    </tr>\n",
              "  </thead>\n",
              "  <tbody>\n",
              "    <tr>\n",
              "      <th>0</th>\n",
              "      <td>1995-01-01</td>\n",
              "      <td>112</td>\n",
              "      <td>Jan</td>\n",
              "    </tr>\n",
              "    <tr>\n",
              "      <th>1</th>\n",
              "      <td>1995-02-01</td>\n",
              "      <td>118</td>\n",
              "      <td>Feb</td>\n",
              "    </tr>\n",
              "    <tr>\n",
              "      <th>2</th>\n",
              "      <td>1995-03-01</td>\n",
              "      <td>132</td>\n",
              "      <td>Mar</td>\n",
              "    </tr>\n",
              "    <tr>\n",
              "      <th>3</th>\n",
              "      <td>1995-04-01</td>\n",
              "      <td>129</td>\n",
              "      <td>Apr</td>\n",
              "    </tr>\n",
              "    <tr>\n",
              "      <th>4</th>\n",
              "      <td>1995-05-01</td>\n",
              "      <td>121</td>\n",
              "      <td>May</td>\n",
              "    </tr>\n",
              "  </tbody>\n",
              "</table>\n",
              "</div>"
            ],
            "text/plain": [
              "       Month  Passengers Months\n",
              "0 1995-01-01         112    Jan\n",
              "1 1995-02-01         118    Feb\n",
              "2 1995-03-01         132    Mar\n",
              "3 1995-04-01         129    Apr\n",
              "4 1995-05-01         121    May"
            ]
          },
          "execution_count": 92,
          "metadata": {},
          "output_type": "execute_result"
        }
      ],
      "source": [
        "data['Month'] = pd.to_datetime(data['Month'])\n",
        "data['Months'] = data['Month'].dt.strftime('%b')\n",
        "data.head() "
      ]
    },
    {
      "cell_type": "code",
      "execution_count": null,
      "id": "4709e641",
      "metadata": {
        "ExecuteTime": {
          "end_time": "2023-02-15T11:26:43.442723Z",
          "start_time": "2023-02-15T11:26:43.349272Z"
        },
        "id": "4709e641",
        "outputId": "ddaa9147-21ef-4fbc-ea6f-90013d6edc66"
      },
      "outputs": [
        {
          "data": {
            "text/plain": [
              "<AxesSubplot:>"
            ]
          },
          "execution_count": 94,
          "metadata": {},
          "output_type": "execute_result"
        },
        {
          "data": {
            "image/png": "[encoded data removed]",
            "text/plain": [
              "<Figure size 640x480 with 1 Axes>"
            ]
          },
          "metadata": {},
          "output_type": "display_data"
        }
      ],
      "source": [
        "sns.boxplot(data=data['Passengers'])"
      ]
    },
    {
      "cell_type": "code",
      "execution_count": null,
      "id": "9be91806",
      "metadata": {
        "ExecuteTime": {
          "end_time": "2023-02-15T11:27:14.717106Z",
          "start_time": "2023-02-15T11:27:14.697847Z"
        },
        "id": "9be91806",
        "outputId": "faf2d4d6-db96-427f-e630-ddab8fc85682"
      },
      "outputs": [
        {
          "data": {
            "text/html": [
              "<div>\n",
              "<style scoped>\n",
              "    .dataframe tbody tr th:only-of-type {\n",
              "        vertical-align: middle;\n",
              "    }\n",
              "\n",
              "    .dataframe tbody tr th {\n",
              "        vertical-align: top;\n",
              "    }\n",
              "\n",
              "    .dataframe thead th {\n",
              "        text-align: right;\n",
              "    }\n",
              "</style>\n",
              "<table border=\"1\" class=\"dataframe\">\n",
              "  <thead>\n",
              "    <tr style=\"text-align: right;\">\n",
              "      <th></th>\n",
              "      <th>Month</th>\n",
              "      <th>Passengers</th>\n",
              "      <th>Months</th>\n",
              "      <th>Apr</th>\n",
              "      <th>Aug</th>\n",
              "      <th>Dec</th>\n",
              "      <th>Feb</th>\n",
              "      <th>Jan</th>\n",
              "      <th>Jul</th>\n",
              "      <th>Jun</th>\n",
              "      <th>Mar</th>\n",
              "      <th>May</th>\n",
              "      <th>Nov</th>\n",
              "      <th>Oct</th>\n",
              "      <th>Sep</th>\n",
              "    </tr>\n",
              "  </thead>\n",
              "  <tbody>\n",
              "    <tr>\n",
              "      <th>0</th>\n",
              "      <td>1995-01-01</td>\n",
              "      <td>112</td>\n",
              "      <td>Jan</td>\n",
              "      <td>0</td>\n",
              "      <td>0</td>\n",
              "      <td>0</td>\n",
              "      <td>0</td>\n",
              "      <td>1</td>\n",
              "      <td>0</td>\n",
              "      <td>0</td>\n",
              "      <td>0</td>\n",
              "      <td>0</td>\n",
              "      <td>0</td>\n",
              "      <td>0</td>\n",
              "      <td>0</td>\n",
              "    </tr>\n",
              "    <tr>\n",
              "      <th>1</th>\n",
              "      <td>1995-02-01</td>\n",
              "      <td>118</td>\n",
              "      <td>Feb</td>\n",
              "      <td>0</td>\n",
              "      <td>0</td>\n",
              "      <td>0</td>\n",
              "      <td>1</td>\n",
              "      <td>0</td>\n",
              "      <td>0</td>\n",
              "      <td>0</td>\n",
              "      <td>0</td>\n",
              "      <td>0</td>\n",
              "      <td>0</td>\n",
              "      <td>0</td>\n",
              "      <td>0</td>\n",
              "    </tr>\n",
              "    <tr>\n",
              "      <th>2</th>\n",
              "      <td>1995-03-01</td>\n",
              "      <td>132</td>\n",
              "      <td>Mar</td>\n",
              "      <td>0</td>\n",
              "      <td>0</td>\n",
              "      <td>0</td>\n",
              "      <td>0</td>\n",
              "      <td>0</td>\n",
              "      <td>0</td>\n",
              "      <td>0</td>\n",
              "      <td>1</td>\n",
              "      <td>0</td>\n",
              "      <td>0</td>\n",
              "      <td>0</td>\n",
              "      <td>0</td>\n",
              "    </tr>\n",
              "    <tr>\n",
              "      <th>3</th>\n",
              "      <td>1995-04-01</td>\n",
              "      <td>129</td>\n",
              "      <td>Apr</td>\n",
              "      <td>1</td>\n",
              "      <td>0</td>\n",
              "      <td>0</td>\n",
              "      <td>0</td>\n",
              "      <td>0</td>\n",
              "      <td>0</td>\n",
              "      <td>0</td>\n",
              "      <td>0</td>\n",
              "      <td>0</td>\n",
              "      <td>0</td>\n",
              "      <td>0</td>\n",
              "      <td>0</td>\n",
              "    </tr>\n",
              "    <tr>\n",
              "      <th>4</th>\n",
              "      <td>1995-05-01</td>\n",
              "      <td>121</td>\n",
              "      <td>May</td>\n",
              "      <td>0</td>\n",
              "      <td>0</td>\n",
              "      <td>0</td>\n",
              "      <td>0</td>\n",
              "      <td>0</td>\n",
              "      <td>0</td>\n",
              "      <td>0</td>\n",
              "      <td>0</td>\n",
              "      <td>1</td>\n",
              "      <td>0</td>\n",
              "      <td>0</td>\n",
              "      <td>0</td>\n",
              "    </tr>\n",
              "  </tbody>\n",
              "</table>\n",
              "</div>"
            ],
            "text/plain": [
              "       Month  Passengers Months  Apr  Aug  Dec  Feb  Jan  Jul  Jun  Mar  May  \\\n",
              "0 1995-01-01         112    Jan    0    0    0    0    1    0    0    0    0   \n",
              "1 1995-02-01         118    Feb    0    0    0    1    0    0    0    0    0   \n",
              "2 1995-03-01         132    Mar    0    0    0    0    0    0    0    1    0   \n",
              "3 1995-04-01         129    Apr    1    0    0    0    0    0    0    0    0   \n",
              "4 1995-05-01         121    May    0    0    0    0    0    0    0    0    1   \n",
              "\n",
              "   Nov  Oct  Sep  \n",
              "0    0    0    0  \n",
              "1    0    0    0  \n",
              "2    0    0    0  \n",
              "3    0    0    0  \n",
              "4    0    0    0  "
            ]
          },
          "execution_count": 95,
          "metadata": {},
          "output_type": "execute_result"
        }
      ],
      "source": [
        "month_dummies = pd.DataFrame(pd.get_dummies(data['Months']))\n",
        "data1 = pd.concat([data,month_dummies],axis = 1)\n",
        "data1.head() "
      ]
    },
    {
      "cell_type": "code",
      "execution_count": null,
      "id": "b626c91c",
      "metadata": {
        "ExecuteTime": {
          "end_time": "2023-02-15T11:28:03.943453Z",
          "start_time": "2023-02-15T11:28:03.917875Z"
        },
        "id": "b626c91c",
        "outputId": "6fdc64ed-0a9a-45ec-bad0-4366266872e8"
      },
      "outputs": [
        {
          "data": {
            "text/html": [
              "<div>\n",
              "<style scoped>\n",
              "    .dataframe tbody tr th:only-of-type {\n",
              "        vertical-align: middle;\n",
              "    }\n",
              "\n",
              "    .dataframe tbody tr th {\n",
              "        vertical-align: top;\n",
              "    }\n",
              "\n",
              "    .dataframe thead th {\n",
              "        text-align: right;\n",
              "    }\n",
              "</style>\n",
              "<table border=\"1\" class=\"dataframe\">\n",
              "  <thead>\n",
              "    <tr style=\"text-align: right;\">\n",
              "      <th></th>\n",
              "      <th>Month</th>\n",
              "      <th>Passengers</th>\n",
              "      <th>Months</th>\n",
              "      <th>Apr</th>\n",
              "      <th>Aug</th>\n",
              "      <th>Dec</th>\n",
              "      <th>Feb</th>\n",
              "      <th>Jan</th>\n",
              "      <th>Jul</th>\n",
              "      <th>Jun</th>\n",
              "      <th>Mar</th>\n",
              "      <th>May</th>\n",
              "      <th>Nov</th>\n",
              "      <th>Oct</th>\n",
              "      <th>Sep</th>\n",
              "      <th>t</th>\n",
              "      <th>t_squared</th>\n",
              "      <th>log_Passengers</th>\n",
              "    </tr>\n",
              "  </thead>\n",
              "  <tbody>\n",
              "    <tr>\n",
              "      <th>0</th>\n",
              "      <td>1995-01-01</td>\n",
              "      <td>112</td>\n",
              "      <td>Jan</td>\n",
              "      <td>0</td>\n",
              "      <td>0</td>\n",
              "      <td>0</td>\n",
              "      <td>0</td>\n",
              "      <td>1</td>\n",
              "      <td>0</td>\n",
              "      <td>0</td>\n",
              "      <td>0</td>\n",
              "      <td>0</td>\n",
              "      <td>0</td>\n",
              "      <td>0</td>\n",
              "      <td>0</td>\n",
              "      <td>1</td>\n",
              "      <td>1</td>\n",
              "      <td>4.718499</td>\n",
              "    </tr>\n",
              "    <tr>\n",
              "      <th>1</th>\n",
              "      <td>1995-02-01</td>\n",
              "      <td>118</td>\n",
              "      <td>Feb</td>\n",
              "      <td>0</td>\n",
              "      <td>0</td>\n",
              "      <td>0</td>\n",
              "      <td>1</td>\n",
              "      <td>0</td>\n",
              "      <td>0</td>\n",
              "      <td>0</td>\n",
              "      <td>0</td>\n",
              "      <td>0</td>\n",
              "      <td>0</td>\n",
              "      <td>0</td>\n",
              "      <td>0</td>\n",
              "      <td>2</td>\n",
              "      <td>4</td>\n",
              "      <td>4.770685</td>\n",
              "    </tr>\n",
              "    <tr>\n",
              "      <th>2</th>\n",
              "      <td>1995-03-01</td>\n",
              "      <td>132</td>\n",
              "      <td>Mar</td>\n",
              "      <td>0</td>\n",
              "      <td>0</td>\n",
              "      <td>0</td>\n",
              "      <td>0</td>\n",
              "      <td>0</td>\n",
              "      <td>0</td>\n",
              "      <td>0</td>\n",
              "      <td>1</td>\n",
              "      <td>0</td>\n",
              "      <td>0</td>\n",
              "      <td>0</td>\n",
              "      <td>0</td>\n",
              "      <td>3</td>\n",
              "      <td>9</td>\n",
              "      <td>4.882802</td>\n",
              "    </tr>\n",
              "    <tr>\n",
              "      <th>3</th>\n",
              "      <td>1995-04-01</td>\n",
              "      <td>129</td>\n",
              "      <td>Apr</td>\n",
              "      <td>1</td>\n",
              "      <td>0</td>\n",
              "      <td>0</td>\n",
              "      <td>0</td>\n",
              "      <td>0</td>\n",
              "      <td>0</td>\n",
              "      <td>0</td>\n",
              "      <td>0</td>\n",
              "      <td>0</td>\n",
              "      <td>0</td>\n",
              "      <td>0</td>\n",
              "      <td>0</td>\n",
              "      <td>4</td>\n",
              "      <td>16</td>\n",
              "      <td>4.859812</td>\n",
              "    </tr>\n",
              "    <tr>\n",
              "      <th>4</th>\n",
              "      <td>1995-05-01</td>\n",
              "      <td>121</td>\n",
              "      <td>May</td>\n",
              "      <td>0</td>\n",
              "      <td>0</td>\n",
              "      <td>0</td>\n",
              "      <td>0</td>\n",
              "      <td>0</td>\n",
              "      <td>0</td>\n",
              "      <td>0</td>\n",
              "      <td>0</td>\n",
              "      <td>1</td>\n",
              "      <td>0</td>\n",
              "      <td>0</td>\n",
              "      <td>0</td>\n",
              "      <td>5</td>\n",
              "      <td>25</td>\n",
              "      <td>4.795791</td>\n",
              "    </tr>\n",
              "  </tbody>\n",
              "</table>\n",
              "</div>"
            ],
            "text/plain": [
              "       Month  Passengers Months  Apr  Aug  Dec  Feb  Jan  Jul  Jun  Mar  May  \\\n",
              "0 1995-01-01         112    Jan    0    0    0    0    1    0    0    0    0   \n",
              "1 1995-02-01         118    Feb    0    0    0    1    0    0    0    0    0   \n",
              "2 1995-03-01         132    Mar    0    0    0    0    0    0    0    1    0   \n",
              "3 1995-04-01         129    Apr    1    0    0    0    0    0    0    0    0   \n",
              "4 1995-05-01         121    May    0    0    0    0    0    0    0    0    1   \n",
              "\n",
              "   Nov  Oct  Sep  t  t_squared  log_Passengers  \n",
              "0    0    0    0  1          1        4.718499  \n",
              "1    0    0    0  2          4        4.770685  \n",
              "2    0    0    0  3          9        4.882802  \n",
              "3    0    0    0  4         16        4.859812  \n",
              "4    0    0    0  5         25        4.795791  "
            ]
          },
          "execution_count": 96,
          "metadata": {},
          "output_type": "execute_result"
        }
      ],
      "source": [
        "data1[\"t\"] = np.arange(1,97)\n",
        "data1[\"t_squared\"] = data1[\"t\"]*data1[\"t\"]\n",
        "data1[\"log_Passengers\"] = np.log(data1[\"Passengers\"])\n",
        "data1.columns\n",
        "data1.head()"
      ]
    },
    {
      "cell_type": "code",
      "execution_count": null,
      "id": "593db63c",
      "metadata": {
        "ExecuteTime": {
          "end_time": "2023-02-15T11:28:24.143103Z",
          "start_time": "2023-02-15T11:28:24.135884Z"
        },
        "id": "593db63c"
      },
      "outputs": [],
      "source": [
        "Train = data1.head(75)\n",
        "Test = data1.tail(25) "
      ]
    },
    {
      "cell_type": "markdown",
      "id": "0f20e582",
      "metadata": {
        "id": "0f20e582"
      },
      "source": [
        "### Linear Model"
      ]
    },
    {
      "cell_type": "code",
      "execution_count": null,
      "id": "99b8bd6a",
      "metadata": {
        "ExecuteTime": {
          "end_time": "2023-02-15T11:29:51.890962Z",
          "start_time": "2023-02-15T11:29:51.875744Z"
        },
        "id": "99b8bd6a",
        "outputId": "8e63128c-f1bd-4fc7-f93b-75e2bccb6334"
      },
      "outputs": [
        {
          "name": "stdout",
          "output_type": "stream",
          "text": [
            "RMSE Linear:  51.83809749584509\n"
          ]
        }
      ],
      "source": [
        "linear_model = smf.ols('Passengers~t',data=Train).fit()\n",
        "pred_linear =  pd.Series(linear_model.predict(pd.DataFrame(Test['t'])))\n",
        "rmse_linear = np.sqrt(np.mean((np.array(Test['Passengers'])-np.array(pred_linear))**2))\n",
        "print(\"RMSE Linear: \",rmse_linear) "
      ]
    },
    {
      "cell_type": "markdown",
      "id": "19c08171",
      "metadata": {
        "id": "19c08171"
      },
      "source": [
        "### Exponential Model"
      ]
    },
    {
      "cell_type": "code",
      "execution_count": null,
      "id": "b872bf04",
      "metadata": {
        "ExecuteTime": {
          "end_time": "2023-02-15T11:30:15.793010Z",
          "start_time": "2023-02-15T11:30:15.779756Z"
        },
        "id": "b872bf04",
        "outputId": "db363b74-1145-4e28-cd6f-21dc8e665432"
      },
      "outputs": [
        {
          "name": "stdout",
          "output_type": "stream",
          "text": [
            "RMSE Exponential:  42.77525975019812\n"
          ]
        }
      ],
      "source": [
        "Exp = smf.ols('log_Passengers~t',data=Train).fit()\n",
        "pred_Exp = pd.Series(Exp.predict(pd.DataFrame(Test['t'])))\n",
        "rmse_Exp = np.sqrt(np.mean((np.array(Test['Passengers'])-np.array(np.exp(pred_Exp)))**2))\n",
        "print(\"RMSE Exponential: \",rmse_Exp)"
      ]
    },
    {
      "cell_type": "markdown",
      "id": "b3689739",
      "metadata": {
        "id": "b3689739"
      },
      "source": [
        "### Quadratic Model"
      ]
    },
    {
      "cell_type": "code",
      "execution_count": null,
      "id": "92e702dd",
      "metadata": {
        "ExecuteTime": {
          "end_time": "2023-02-15T11:30:41.899832Z",
          "start_time": "2023-02-15T11:30:41.872724Z"
        },
        "id": "92e702dd",
        "outputId": "84c5c3fd-7be8-4145-fe53-3796f479f8fb"
      },
      "outputs": [
        {
          "name": "stdout",
          "output_type": "stream",
          "text": [
            "RMSE Quadratic:  54.0314064562542\n"
          ]
        }
      ],
      "source": [
        "Quad = smf.ols('Passengers~t+t_squared',data=Train).fit()\n",
        "pred_Quad = pd.Series(Quad.predict(Test[[\"t\",\"t_squared\"]]))\n",
        "rmse_Quad = np.sqrt(np.mean((np.array(Test['Passengers'])-np.array(pred_Quad))**2))\n",
        "print(\"RMSE Quadratic: \",rmse_Quad) "
      ]
    },
    {
      "cell_type": "markdown",
      "id": "e9220d25",
      "metadata": {
        "id": "e9220d25"
      },
      "source": [
        "### Additive Seasonality Model"
      ]
    },
    {
      "cell_type": "code",
      "execution_count": null,
      "id": "ce8ac6fb",
      "metadata": {
        "ExecuteTime": {
          "end_time": "2023-02-15T11:31:32.153388Z",
          "start_time": "2023-02-15T11:31:32.081253Z"
        },
        "id": "ce8ac6fb",
        "outputId": "3e330259-d9aa-4187-89c5-5b331417de61"
      },
      "outputs": [
        {
          "name": "stdout",
          "output_type": "stream",
          "text": [
            "RMSE Additive seasonality:  123.02763788084239\n"
          ]
        }
      ],
      "source": [
        "add_sea = smf.ols('Passengers~Jan+Feb+Mar+Apr+May+Jun+Jul+Aug+Sep+Oct+Nov+Dec',data=Train).fit()\n",
        "pred_add_sea = pd.Series(add_sea.predict(Test[['Jan','Feb','Mar','Apr','May','Jun','Jul','Aug','Sep','Oct','Nov','Dec']]))\n",
        "rmse_add_sea = np.sqrt(np.mean((np.array(Test['Passengers'])-np.array(pred_add_sea))**2))\n",
        "print(\"RMSE Additive seasonality: \",rmse_add_sea)"
      ]
    },
    {
      "cell_type": "markdown",
      "id": "221f3c20",
      "metadata": {
        "id": "221f3c20"
      },
      "source": [
        "### Additive Seasonality Quadratic Model"
      ]
    },
    {
      "cell_type": "code",
      "execution_count": null,
      "id": "da28c986",
      "metadata": {
        "ExecuteTime": {
          "end_time": "2023-02-15T11:32:15.468252Z",
          "start_time": "2023-02-15T11:32:15.419528Z"
        },
        "id": "da28c986",
        "outputId": "63d72547-5ef1-477b-abc5-883f6711d90e"
      },
      "outputs": [
        {
          "name": "stdout",
          "output_type": "stream",
          "text": [
            "RMSE Additive Seasonality Quadratic: 36.53627444546887\n"
          ]
        }
      ],
      "source": [
        "add_sea_Quad = smf.ols('Passengers~t+t_squared+Jan+Feb+Mar+Apr+May+Jun+Jul+Aug+Sep+Oct+Nov+Dec',data=Train).fit()\n",
        "pred_add_sea_quad = pd.Series(add_sea_Quad.predict(Test[['Jan','Feb','Mar','Apr','May','Jun','Jul','Aug','Sep','Oct','Nov','Dec','t','t_squared']]))\n",
        "rmse_add_sea_quad = np.sqrt(np.mean((np.array(Test['Passengers'])-np.array(pred_add_sea_quad))**2))\n",
        "print(\"RMSE Additive Seasonality Quadratic:\",rmse_add_sea_quad )"
      ]
    },
    {
      "cell_type": "markdown",
      "id": "0e9e4d45",
      "metadata": {
        "id": "0e9e4d45"
      },
      "source": [
        "### Multiplicative Seasonality Model"
      ]
    },
    {
      "cell_type": "code",
      "execution_count": null,
      "id": "0c6a92d7",
      "metadata": {
        "ExecuteTime": {
          "end_time": "2023-02-15T11:32:49.625686Z",
          "start_time": "2023-02-15T11:32:49.578554Z"
        },
        "id": "0c6a92d7",
        "outputId": "29bcaa98-669b-4010-9254-217fbf84b8b5"
      },
      "outputs": [
        {
          "name": "stdout",
          "output_type": "stream",
          "text": [
            "RMSE Multiplicative Seasonality: 128.1662281759614\n"
          ]
        }
      ],
      "source": [
        "Mul_sea = smf.ols('log_Passengers~Jan+Feb+Mar+Apr+May+Jun+Jul+Aug+Sep+Oct+Nov+Dec',data = Train).fit()\n",
        "pred_Mult_sea = pd.Series(Mul_sea.predict(Test))\n",
        "rmse_Mult_sea = np.sqrt(np.mean((np.array(Test['Passengers'])-np.array(np.exp(pred_Mult_sea)))**2))\n",
        "print(\"RMSE Multiplicative Seasonality:\",rmse_Mult_sea)"
      ]
    },
    {
      "cell_type": "markdown",
      "id": "1e04d867",
      "metadata": {
        "id": "1e04d867"
      },
      "source": [
        "### Multiplicative Additive Seasonality Model"
      ]
    },
    {
      "cell_type": "code",
      "execution_count": null,
      "id": "2418bb29",
      "metadata": {
        "ExecuteTime": {
          "end_time": "2023-02-15T11:33:25.484028Z",
          "start_time": "2023-02-15T11:33:25.423560Z"
        },
        "id": "2418bb29",
        "outputId": "944fb696-5590-4a0f-eebf-aeb70326212c"
      },
      "outputs": [
        {
          "name": "stdout",
          "output_type": "stream",
          "text": [
            "RMSE Multiplicative Additive Seasonality: 11.565825437686303\n"
          ]
        }
      ],
      "source": [
        "Mul_Add_sea = smf.ols('log_Passengers~t+Jan+Feb+Mar+Apr+May+Jun+Jul+Aug+Sep+Oct+Nov+Dec',data = Train).fit()\n",
        "pred_Mult_add_sea = pd.Series(Mul_Add_sea.predict(Test))\n",
        "rmse_Mult_add_sea = np.sqrt(np.mean((np.array(Test['Passengers'])-np.array(np.exp(pred_Mult_add_sea)))**2))\n",
        "print(\"RMSE Multiplicative Additive Seasonality:\",rmse_Mult_add_sea )"
      ]
    },
    {
      "cell_type": "code",
      "execution_count": null,
      "id": "56bdab90",
      "metadata": {
        "ExecuteTime": {
          "end_time": "2023-02-15T11:34:08.700928Z",
          "start_time": "2023-02-15T11:34:08.681149Z"
        },
        "id": "56bdab90",
        "outputId": "cfb35624-50a5-4076-e700-1910bee5e574"
      },
      "outputs": [
        {
          "data": {
            "text/html": [
              "<div>\n",
              "<style scoped>\n",
              "    .dataframe tbody tr th:only-of-type {\n",
              "        vertical-align: middle;\n",
              "    }\n",
              "\n",
              "    .dataframe tbody tr th {\n",
              "        vertical-align: top;\n",
              "    }\n",
              "\n",
              "    .dataframe thead th {\n",
              "        text-align: right;\n",
              "    }\n",
              "</style>\n",
              "<table border=\"1\" class=\"dataframe\">\n",
              "  <thead>\n",
              "    <tr style=\"text-align: right;\">\n",
              "      <th></th>\n",
              "      <th>MODEL</th>\n",
              "      <th>RMSE_Values</th>\n",
              "    </tr>\n",
              "  </thead>\n",
              "  <tbody>\n",
              "    <tr>\n",
              "      <th>0</th>\n",
              "      <td>rmse_linear</td>\n",
              "      <td>51.838097</td>\n",
              "    </tr>\n",
              "    <tr>\n",
              "      <th>1</th>\n",
              "      <td>rmse_Exp</td>\n",
              "      <td>42.775260</td>\n",
              "    </tr>\n",
              "    <tr>\n",
              "      <th>2</th>\n",
              "      <td>rmse_Quad</td>\n",
              "      <td>54.031406</td>\n",
              "    </tr>\n",
              "    <tr>\n",
              "      <th>3</th>\n",
              "      <td>rmse_add_sea</td>\n",
              "      <td>123.027638</td>\n",
              "    </tr>\n",
              "    <tr>\n",
              "      <th>4</th>\n",
              "      <td>rmse_add_sea_quad</td>\n",
              "      <td>36.536274</td>\n",
              "    </tr>\n",
              "    <tr>\n",
              "      <th>5</th>\n",
              "      <td>rmse_Mult_sea</td>\n",
              "      <td>128.166228</td>\n",
              "    </tr>\n",
              "    <tr>\n",
              "      <th>6</th>\n",
              "      <td>rmse_Mult_add_sea</td>\n",
              "      <td>11.565825</td>\n",
              "    </tr>\n",
              "  </tbody>\n",
              "</table>\n",
              "</div>"
            ],
            "text/plain": [
              "               MODEL  RMSE_Values\n",
              "0        rmse_linear    51.838097\n",
              "1           rmse_Exp    42.775260\n",
              "2          rmse_Quad    54.031406\n",
              "3       rmse_add_sea   123.027638\n",
              "4  rmse_add_sea_quad    36.536274\n",
              "5      rmse_Mult_sea   128.166228\n",
              "6  rmse_Mult_add_sea    11.565825"
            ]
          },
          "execution_count": 108,
          "metadata": {},
          "output_type": "execute_result"
        }
      ],
      "source": [
        "df = {\"MODEL\":pd.Series([\"rmse_linear\",\"rmse_Exp\",\"rmse_Quad\",\"rmse_add_sea\",\"rmse_add_sea_quad\",\"rmse_Mult_sea\",\"rmse_Mult_add_sea\"]),\n",
        "        \"RMSE_Values\":pd.Series([rmse_linear,rmse_Exp,rmse_Quad,rmse_add_sea,rmse_add_sea_quad,rmse_Mult_sea,rmse_Mult_add_sea])}\n",
        "table_rmse=pd.DataFrame(df)\n",
        "table_rmse"
      ]
    },
    {
      "cell_type": "code",
      "execution_count": null,
      "id": "e28f896f",
      "metadata": {
        "ExecuteTime": {
          "end_time": "2023-02-15T11:34:39.957554Z",
          "start_time": "2023-02-15T11:34:39.938712Z"
        },
        "id": "e28f896f",
        "outputId": "4fd886e3-60f0-44a0-8efb-6191fd7403ce"
      },
      "outputs": [
        {
          "data": {
            "text/html": [
              "<div>\n",
              "<style scoped>\n",
              "    .dataframe tbody tr th:only-of-type {\n",
              "        vertical-align: middle;\n",
              "    }\n",
              "\n",
              "    .dataframe tbody tr th {\n",
              "        vertical-align: top;\n",
              "    }\n",
              "\n",
              "    .dataframe thead th {\n",
              "        text-align: right;\n",
              "    }\n",
              "</style>\n",
              "<table border=\"1\" class=\"dataframe\">\n",
              "  <thead>\n",
              "    <tr style=\"text-align: right;\">\n",
              "      <th></th>\n",
              "      <th>Date</th>\n",
              "      <th>Months</th>\n",
              "    </tr>\n",
              "  </thead>\n",
              "  <tbody>\n",
              "    <tr>\n",
              "      <th>0</th>\n",
              "      <td>2003-01-01</td>\n",
              "      <td>Jan</td>\n",
              "    </tr>\n",
              "    <tr>\n",
              "      <th>1</th>\n",
              "      <td>2003-02-01</td>\n",
              "      <td>Feb</td>\n",
              "    </tr>\n",
              "    <tr>\n",
              "      <th>2</th>\n",
              "      <td>2003-03-01</td>\n",
              "      <td>Mar</td>\n",
              "    </tr>\n",
              "    <tr>\n",
              "      <th>3</th>\n",
              "      <td>2003-04-01</td>\n",
              "      <td>Apr</td>\n",
              "    </tr>\n",
              "    <tr>\n",
              "      <th>4</th>\n",
              "      <td>2003-5-01</td>\n",
              "      <td>May</td>\n",
              "    </tr>\n",
              "    <tr>\n",
              "      <th>5</th>\n",
              "      <td>2003-06-01</td>\n",
              "      <td>Jun</td>\n",
              "    </tr>\n",
              "    <tr>\n",
              "      <th>6</th>\n",
              "      <td>2003-07-01</td>\n",
              "      <td>Jul</td>\n",
              "    </tr>\n",
              "    <tr>\n",
              "      <th>7</th>\n",
              "      <td>2003-08-01</td>\n",
              "      <td>Aug</td>\n",
              "    </tr>\n",
              "    <tr>\n",
              "      <th>8</th>\n",
              "      <td>2003-09-01</td>\n",
              "      <td>Sep</td>\n",
              "    </tr>\n",
              "    <tr>\n",
              "      <th>9</th>\n",
              "      <td>2003-10-01</td>\n",
              "      <td>Oct</td>\n",
              "    </tr>\n",
              "    <tr>\n",
              "      <th>10</th>\n",
              "      <td>2003-11-01</td>\n",
              "      <td>Nov</td>\n",
              "    </tr>\n",
              "    <tr>\n",
              "      <th>11</th>\n",
              "      <td>2003-12-01</td>\n",
              "      <td>Dec</td>\n",
              "    </tr>\n",
              "  </tbody>\n",
              "</table>\n",
              "</div>"
            ],
            "text/plain": [
              "          Date Months\n",
              "0   2003-01-01    Jan\n",
              "1   2003-02-01    Feb\n",
              "2   2003-03-01    Mar\n",
              "3   2003-04-01    Apr\n",
              "4    2003-5-01    May\n",
              "5   2003-06-01    Jun\n",
              "6   2003-07-01    Jul\n",
              "7   2003-08-01    Aug\n",
              "8   2003-09-01    Sep\n",
              "9   2003-10-01    Oct\n",
              "10  2003-11-01    Nov\n",
              "11  2003-12-01    Dec"
            ]
          },
          "execution_count": 109,
          "metadata": {},
          "output_type": "execute_result"
        }
      ],
      "source": [
        "df1 = [['2003-01-01', 'Jan'], ['2003-02-01', 'Feb'], ['2003-03-01', 'Mar'],['2003-04-01', 'Apr'],['2003-5-01', 'May'],['2003-06-01', 'Jun'],\n",
        "        ['2003-07-01', 'Jul'],['2003-08-01', 'Aug'],['2003-09-01', 'Sep'],['2003-10-01', 'Oct'],['2003-11-01', 'Nov'],['2003-12-01', 'Dec']]\n",
        "forecast = pd.DataFrame(df1, columns = ['Date', 'Months'])\n",
        "forecast"
      ]
    },
    {
      "cell_type": "code",
      "execution_count": null,
      "id": "7e3cdfc8",
      "metadata": {
        "ExecuteTime": {
          "end_time": "2023-02-15T11:35:13.524341Z",
          "start_time": "2023-02-15T11:35:13.501473Z"
        },
        "id": "7e3cdfc8",
        "outputId": "33984722-e48d-4b9f-d403-8c5d36eba2f3"
      },
      "outputs": [
        {
          "name": "stdout",
          "output_type": "stream",
          "text": [
            "\n",
            "After Dummy, T and T-Square\n",
            "\n",
            "          Date Months  Apr  Aug  Dec  Feb  Jan  Jul  Jun  Mar  May  Nov  Oct  \\\n",
            "0  2003-01-01    Jan    0    0    0    0    1    0    0    0    0    0    0   \n",
            "1  2003-02-01    Feb    0    0    0    1    0    0    0    0    0    0    0   \n",
            "2  2003-03-01    Mar    0    0    0    0    0    0    0    1    0    0    0   \n",
            "3  2003-04-01    Apr    1    0    0    0    0    0    0    0    0    0    0   \n",
            "4   2003-5-01    May    0    0    0    0    0    0    0    0    1    0    0   \n",
            "\n",
            "   Sep  t  t_squared  \n",
            "0    0  1          1  \n",
            "1    0  2          4  \n",
            "2    0  3          9  \n",
            "3    0  4         16  \n",
            "4    0  5         25  \n"
          ]
        }
      ],
      "source": [
        "# Create dummies and T and T-Squared columns\n",
        "\n",
        "dummies = pd.DataFrame(pd.get_dummies(forecast['Months']))\n",
        "forecast1 = pd.concat([forecast,dummies],axis = 1)\n",
        "\n",
        "forecast1[\"t\"] = np.arange(1,13)   \n",
        "forecast1[\"t_squared\"] = forecast1[\"t\"]*forecast1[\"t\"] \n",
        "print(\"\\nAfter Dummy, T and T-Square\\n\\n\",forecast1.head())"
      ]
    },
    {
      "cell_type": "markdown",
      "id": "3ca2d01b",
      "metadata": {
        "id": "3ca2d01b"
      },
      "source": [
        "## Forecasting using Multiplicative Additive Seasonality Model\n"
      ]
    },
    {
      "cell_type": "code",
      "execution_count": null,
      "id": "67e0be13",
      "metadata": {
        "ExecuteTime": {
          "end_time": "2023-02-15T11:36:21.576247Z",
          "start_time": "2023-02-15T11:36:21.531969Z"
        },
        "id": "67e0be13"
      },
      "outputs": [],
      "source": [
        "model_full = smf.ols('log_Passengers~t+Jan+Feb+Mar+Apr+May+Jun+Jul+Aug+Sep+Oct+Nov+Dec',data =data1).fit()\n",
        "pred_new  = pd.Series(model_full.predict(forecast1))\n",
        "\n",
        "forecast1[\"Forecasted_log\"] = pd.Series(pred_new)\n",
        "forecast1['Forecasted_Passengers'] = np.exp(forecast1['Forecasted_log']) "
      ]
    },
    {
      "cell_type": "code",
      "execution_count": null,
      "id": "0edcd736",
      "metadata": {
        "ExecuteTime": {
          "end_time": "2023-02-15T11:36:34.752623Z",
          "start_time": "2023-02-15T11:36:34.738308Z"
        },
        "id": "0edcd736",
        "outputId": "7b5040ad-a85b-423e-8f26-40783398557d"
      },
      "outputs": [
        {
          "data": {
            "text/html": [
              "<div>\n",
              "<style scoped>\n",
              "    .dataframe tbody tr th:only-of-type {\n",
              "        vertical-align: middle;\n",
              "    }\n",
              "\n",
              "    .dataframe tbody tr th {\n",
              "        vertical-align: top;\n",
              "    }\n",
              "\n",
              "    .dataframe thead th {\n",
              "        text-align: right;\n",
              "    }\n",
              "</style>\n",
              "<table border=\"1\" class=\"dataframe\">\n",
              "  <thead>\n",
              "    <tr style=\"text-align: right;\">\n",
              "      <th></th>\n",
              "      <th>Date</th>\n",
              "      <th>Forecasted_Passengers</th>\n",
              "    </tr>\n",
              "  </thead>\n",
              "  <tbody>\n",
              "    <tr>\n",
              "      <th>0</th>\n",
              "      <td>2003-01-01</td>\n",
              "      <td>109.176148</td>\n",
              "    </tr>\n",
              "    <tr>\n",
              "      <th>1</th>\n",
              "      <td>2003-02-01</td>\n",
              "      <td>110.331245</td>\n",
              "    </tr>\n",
              "    <tr>\n",
              "      <th>2</th>\n",
              "      <td>2003-03-01</td>\n",
              "      <td>127.315234</td>\n",
              "    </tr>\n",
              "    <tr>\n",
              "      <th>3</th>\n",
              "      <td>2003-04-01</td>\n",
              "      <td>123.200587</td>\n",
              "    </tr>\n",
              "    <tr>\n",
              "      <th>4</th>\n",
              "      <td>2003-5-01</td>\n",
              "      <td>122.399578</td>\n",
              "    </tr>\n",
              "    <tr>\n",
              "      <th>5</th>\n",
              "      <td>2003-06-01</td>\n",
              "      <td>138.536397</td>\n",
              "    </tr>\n",
              "    <tr>\n",
              "      <th>6</th>\n",
              "      <td>2003-07-01</td>\n",
              "      <td>154.066959</td>\n",
              "    </tr>\n",
              "    <tr>\n",
              "      <th>7</th>\n",
              "      <td>2003-08-01</td>\n",
              "      <td>153.741209</td>\n",
              "    </tr>\n",
              "    <tr>\n",
              "      <th>8</th>\n",
              "      <td>2003-09-01</td>\n",
              "      <td>137.693733</td>\n",
              "    </tr>\n",
              "    <tr>\n",
              "      <th>9</th>\n",
              "      <td>2003-10-01</td>\n",
              "      <td>120.894736</td>\n",
              "    </tr>\n",
              "    <tr>\n",
              "      <th>10</th>\n",
              "      <td>2003-11-01</td>\n",
              "      <td>106.109309</td>\n",
              "    </tr>\n",
              "    <tr>\n",
              "      <th>11</th>\n",
              "      <td>2003-12-01</td>\n",
              "      <td>121.633998</td>\n",
              "    </tr>\n",
              "  </tbody>\n",
              "</table>\n",
              "</div>"
            ],
            "text/plain": [
              "          Date  Forecasted_Passengers\n",
              "0   2003-01-01             109.176148\n",
              "1   2003-02-01             110.331245\n",
              "2   2003-03-01             127.315234\n",
              "3   2003-04-01             123.200587\n",
              "4    2003-5-01             122.399578\n",
              "5   2003-06-01             138.536397\n",
              "6   2003-07-01             154.066959\n",
              "7   2003-08-01             153.741209\n",
              "8   2003-09-01             137.693733\n",
              "9   2003-10-01             120.894736\n",
              "10  2003-11-01             106.109309\n",
              "11  2003-12-01             121.633998"
            ]
          },
          "execution_count": 112,
          "metadata": {},
          "output_type": "execute_result"
        }
      ],
      "source": [
        "# Final Prediction for next 12 months\n",
        "\n",
        "Final_predict = forecast1.loc[:, ['Date', 'Forecasted_Passengers']] \n",
        "Final_predict "
      ]
    },
    {
      "cell_type": "markdown",
      "id": "a9c439c6",
      "metadata": {
        "id": "a9c439c6"
      },
      "source": [
        "### Conclusion : Multiplicative Additive Seasonality model has best RMSE value"
      ]
    },
    {
      "cell_type": "code",
      "execution_count": null,
      "id": "d97690e3",
      "metadata": {
        "id": "d97690e3"
      },
      "outputs": [],
      "source": []
    }
  ],
  "metadata": {
    "kernelspec": {
      "display_name": "Python 3 (ipykernel)",
      "language": "python",
      "name": "python3"
    },
    "language_info": {
      "codemirror_mode": {
        "name": "ipython",
        "version": 3
      },
      "file_extension": ".py",
      "mimetype": "text/x-python",
      "name": "python",
      "nbconvert_exporter": "python",
      "pygments_lexer": "ipython3",
      "version": "3.9.13"
    },
    "colab": {
      "provenance": []
    }
  },
  "nbformat": 4,
  "nbformat_minor": 5
}